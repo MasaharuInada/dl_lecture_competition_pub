{
 "cells": [
  {
   "cell_type": "code",
   "execution_count": 1,
   "metadata": {},
   "outputs": [],
   "source": [
    "import sklearn\n",
    "import sktime\n",
    "from tsai.basics import *\n",
    "\n",
    "import os\n",
    "import sys\n",
    "\n",
    "import hydra\n",
    "import numpy as np\n",
    "import torch\n",
    "import torch.nn.functional as F\n",
    "import wandb  # API key: 2efbdd2316576b45689ac6f5c6e957865ad0b1ba\n",
    "from omegaconf import DictConfig\n",
    "from termcolor import cprint\n",
    "from torchmetrics import Accuracy\n",
    "from tqdm import tqdm\n",
    "\n",
    "from src.datasets import ThingsMEGDataset\n",
    "from src.models import BasicConvClassifier, miniROCKETClassifier\n",
    "from src.utils import set_seed\n",
    "\n",
    "## Pytorch implementation (any # samples)\n",
    "from tsai.models.MINIROCKET_Pytorch import *\n",
    "from tsai.models.utils import *"
   ]
  },
  {
   "cell_type": "code",
   "execution_count": 2,
   "metadata": {},
   "outputs": [],
   "source": [
    "loader_args = {\"batch_size\": 128, \"num_workers\": 4}\n",
    "\n",
    "train_set = ThingsMEGDataset(\"train\", data_dir=\"data\")\n",
    "train_loader = torch.utils.data.DataLoader(train_set, shuffle=True, **loader_args)\n",
    "val_set = ThingsMEGDataset(\"val\", data_dir=\"data\")\n",
    "val_loader = torch.utils.data.DataLoader(val_set, shuffle=False, **loader_args)\n",
    "test_set = ThingsMEGDataset(\"test\", data_dir=\"data\")\n",
    "test_loader = torch.utils.data.DataLoader(test_set, shuffle=False, **loader_args)"
   ]
  },
  {
   "cell_type": "code",
   "execution_count": 3,
   "metadata": {},
   "outputs": [
    {
     "name": "stdout",
     "output_type": "stream",
     "text": [
      "1854\n"
     ]
    }
   ],
   "source": [
    "print(train_set.num_classes)"
   ]
  },
  {
   "cell_type": "code",
   "execution_count": 3,
   "metadata": {},
   "outputs": [
    {
     "data": {
      "text/plain": [
       "BasicConvClassifier(\n",
       "  (blocks): Sequential(\n",
       "    (0): ConvBlock(\n",
       "      (conv0): Conv1d(271, 128, kernel_size=(3,), stride=(1,), padding=same)\n",
       "      (conv1): Conv1d(128, 128, kernel_size=(3,), stride=(1,), padding=same)\n",
       "      (batchnorm0): BatchNorm1d(128, eps=1e-05, momentum=0.1, affine=True, track_running_stats=True)\n",
       "      (batchnorm1): BatchNorm1d(128, eps=1e-05, momentum=0.1, affine=True, track_running_stats=True)\n",
       "      (dropout): Dropout(p=0.1, inplace=False)\n",
       "    )\n",
       "    (1): ConvBlock(\n",
       "      (conv0): Conv1d(128, 128, kernel_size=(3,), stride=(1,), padding=same)\n",
       "      (conv1): Conv1d(128, 128, kernel_size=(3,), stride=(1,), padding=same)\n",
       "      (batchnorm0): BatchNorm1d(128, eps=1e-05, momentum=0.1, affine=True, track_running_stats=True)\n",
       "      (batchnorm1): BatchNorm1d(128, eps=1e-05, momentum=0.1, affine=True, track_running_stats=True)\n",
       "      (dropout): Dropout(p=0.1, inplace=False)\n",
       "    )\n",
       "  )\n",
       "  (head): Sequential(\n",
       "    (0): AdaptiveAvgPool1d(output_size=1)\n",
       "    (1): Rearrange('b d 1 -> b d')\n",
       "    (2): Linear(in_features=128, out_features=1854, bias=True)\n",
       "  )\n",
       ")"
      ]
     },
     "execution_count": 3,
     "metadata": {},
     "output_type": "execute_result"
    }
   ],
   "source": [
    "model = BasicConvClassifier(\n",
    "    train_set.num_classes, train_set.seq_len, train_set.num_channels\n",
    ").to(\"cuda:0\")\n",
    "model"
   ]
  },
  {
   "cell_type": "code",
   "execution_count": 4,
   "metadata": {},
   "outputs": [
    {
     "data": {
      "text/plain": [
       "MiniRocket(\n",
       "  (backbone): MiniRocketFeatures()\n",
       "  (head): Sequential(\n",
       "    (0): Flatten(start_dim=1, end_dim=-1)\n",
       "    (1): BatchNorm1d(9996, eps=1e-05, momentum=0.1, affine=True, track_running_stats=True)\n",
       "    (2): Linear(in_features=9996, out_features=1854, bias=True)\n",
       "  )\n",
       ")"
      ]
     },
     "execution_count": 4,
     "metadata": {},
     "output_type": "execute_result"
    }
   ],
   "source": [
    "model = MiniRocket(\n",
    "    c_in=train_set.num_channels,\n",
    "    seq_len=train_set.seq_len,\n",
    "    num_features=10_000,\n",
    "    max_dilations_per_kernel=32,\n",
    "    c_out=train_set.num_classes,\n",
    ").to(\"cuda:0\")\n",
    "model"
   ]
  },
  {
   "cell_type": "code",
   "execution_count": 5,
   "metadata": {},
   "outputs": [
    {
     "data": {
      "text/plain": [
       "TCN(\n",
       "  (tcn): Sequential(\n",
       "    (0): TemporalBlock(\n",
       "      (conv1): Conv1d(271, 25, kernel_size=(7,), stride=(1,), padding=(6,))\n",
       "      (chomp1): Chomp1d()\n",
       "      (relu1): ReLU()\n",
       "      (dropout1): Dropout(p=0.2, inplace=False)\n",
       "      (conv2): Conv1d(25, 25, kernel_size=(7,), stride=(1,), padding=(6,))\n",
       "      (chomp2): Chomp1d()\n",
       "      (relu2): ReLU()\n",
       "      (dropout2): Dropout(p=0.2, inplace=False)\n",
       "      (net): Sequential(\n",
       "        (0): Conv1d(271, 25, kernel_size=(7,), stride=(1,), padding=(6,))\n",
       "        (1): Chomp1d()\n",
       "        (2): ReLU()\n",
       "        (3): Dropout(p=0.2, inplace=False)\n",
       "        (4): Conv1d(25, 25, kernel_size=(7,), stride=(1,), padding=(6,))\n",
       "        (5): Chomp1d()\n",
       "        (6): ReLU()\n",
       "        (7): Dropout(p=0.2, inplace=False)\n",
       "      )\n",
       "      (downsample): Conv1d(271, 25, kernel_size=(1,), stride=(1,))\n",
       "      (relu): ReLU()\n",
       "    )\n",
       "    (1): TemporalBlock(\n",
       "      (conv1): Conv1d(25, 25, kernel_size=(7,), stride=(1,), padding=(12,), dilation=(2,))\n",
       "      (chomp1): Chomp1d()\n",
       "      (relu1): ReLU()\n",
       "      (dropout1): Dropout(p=0.2, inplace=False)\n",
       "      (conv2): Conv1d(25, 25, kernel_size=(7,), stride=(1,), padding=(12,), dilation=(2,))\n",
       "      (chomp2): Chomp1d()\n",
       "      (relu2): ReLU()\n",
       "      (dropout2): Dropout(p=0.2, inplace=False)\n",
       "      (net): Sequential(\n",
       "        (0): Conv1d(25, 25, kernel_size=(7,), stride=(1,), padding=(12,), dilation=(2,))\n",
       "        (1): Chomp1d()\n",
       "        (2): ReLU()\n",
       "        (3): Dropout(p=0.2, inplace=False)\n",
       "        (4): Conv1d(25, 25, kernel_size=(7,), stride=(1,), padding=(12,), dilation=(2,))\n",
       "        (5): Chomp1d()\n",
       "        (6): ReLU()\n",
       "        (7): Dropout(p=0.2, inplace=False)\n",
       "      )\n",
       "      (relu): ReLU()\n",
       "    )\n",
       "    (2): TemporalBlock(\n",
       "      (conv1): Conv1d(25, 25, kernel_size=(7,), stride=(1,), padding=(24,), dilation=(4,))\n",
       "      (chomp1): Chomp1d()\n",
       "      (relu1): ReLU()\n",
       "      (dropout1): Dropout(p=0.2, inplace=False)\n",
       "      (conv2): Conv1d(25, 25, kernel_size=(7,), stride=(1,), padding=(24,), dilation=(4,))\n",
       "      (chomp2): Chomp1d()\n",
       "      (relu2): ReLU()\n",
       "      (dropout2): Dropout(p=0.2, inplace=False)\n",
       "      (net): Sequential(\n",
       "        (0): Conv1d(25, 25, kernel_size=(7,), stride=(1,), padding=(24,), dilation=(4,))\n",
       "        (1): Chomp1d()\n",
       "        (2): ReLU()\n",
       "        (3): Dropout(p=0.2, inplace=False)\n",
       "        (4): Conv1d(25, 25, kernel_size=(7,), stride=(1,), padding=(24,), dilation=(4,))\n",
       "        (5): Chomp1d()\n",
       "        (6): ReLU()\n",
       "        (7): Dropout(p=0.2, inplace=False)\n",
       "      )\n",
       "      (relu): ReLU()\n",
       "    )\n",
       "  )\n",
       "  (gap): GAP1d(\n",
       "    (gap): AdaptiveAvgPool1d(output_size=1)\n",
       "    (flatten): Reshape(bs)\n",
       "  )\n",
       "  (dropout): Dropout(p=0.2, inplace=False)\n",
       "  (linear): Linear(in_features=25, out_features=1854, bias=True)\n",
       ")"
      ]
     },
     "execution_count": 5,
     "metadata": {},
     "output_type": "execute_result"
    }
   ],
   "source": [
    "from tsai.models.TCN import *\n",
    "\n",
    "model = TCN(\n",
    "        c_in=train_set.num_channels,\n",
    "        c_out=train_set.num_classes,\n",
    "        ks=7,\n",
    "        layers=[25] * 3,\n",
    "        conv_dropout=0.2,\n",
    "        fc_dropout=0.2,\n",
    "    ).to(\"cuda:0\")\n",
    "\n",
    "model"
   ]
  },
  {
   "cell_type": "code",
   "execution_count": 7,
   "metadata": {},
   "outputs": [
    {
     "data": {
      "text/plain": [
       "LSTM(\n",
       "  (rnn): LSTM(271, 512, num_layers=2, batch_first=True, dropout=0.2, bidirectional=True)\n",
       "  (dropout): Dropout(p=0.2, inplace=False)\n",
       "  (fc): Linear(in_features=1024, out_features=1854, bias=True)\n",
       ")"
      ]
     },
     "execution_count": 7,
     "metadata": {},
     "output_type": "execute_result"
    }
   ],
   "source": [
    "from tsai.models.RNN import *\n",
    "\n",
    "model = LSTM(\n",
    "        c_in=train_set.num_channels,\n",
    "        c_out=train_set.num_classes,\n",
    "        hidden_size=512,\n",
    "        n_layers=2,\n",
    "        rnn_dropout=0.2,\n",
    "        fc_dropout=0.2,\n",
    "        bidirectional=True,\n",
    "    ).to(\"cuda:0\")\n",
    "\n",
    "model"
   ]
  },
  {
   "cell_type": "code",
   "execution_count": 9,
   "metadata": {},
   "outputs": [
    {
     "name": "stdout",
     "output_type": "stream",
     "text": [
      "torch.Size([271, 281])\n"
     ]
    }
   ],
   "source": [
    "print(train_loader.dataset[0][0].shape)"
   ]
  }
 ],
 "metadata": {
  "kernelspec": {
   "display_name": "dlbasics",
   "language": "python",
   "name": "python3"
  },
  "language_info": {
   "codemirror_mode": {
    "name": "ipython",
    "version": 3
   },
   "file_extension": ".py",
   "mimetype": "text/x-python",
   "name": "python",
   "nbconvert_exporter": "python",
   "pygments_lexer": "ipython3",
   "version": "3.10.14"
  }
 },
 "nbformat": 4,
 "nbformat_minor": 2
}
